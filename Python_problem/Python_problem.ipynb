{
 "cells": [
  {
   "cell_type": "code",
   "execution_count": 1,
   "metadata": {
    "collapsed": true
   },
   "outputs": [],
   "source": [
    "import tweepy  #for twitter api\n",
    "import json    #for dumping into json file\n",
    "#creating an app on twitter developer tools to get the following \n",
    "consumer_key = \"XXXXXXX\"\n",
    "consumer_secret = \"XXXXXX\"\n",
    "access_key = \"XXXXXXX\"\n",
    "access_secret = \"XXXXXXX\""
   ]
  },
  {
   "cell_type": "code",
   "execution_count": 2,
   "metadata": {
    "collapsed": true
   },
   "outputs": [],
   "source": [
    "def get_all_tweets(screen_name):\n",
    "\t# defining a function to fetch all tweets\n",
    "\t\n",
    "\t# authorize twitter, initialize tweepy using the credentials above\n",
    "\tauth = tweepy.OAuthHandler(consumer_key, consumer_secret)\n",
    "\tauth.set_access_token(access_key, access_secret)\n",
    "\tapi = tweepy.API(auth)\n",
    "\t\n",
    "\t# initialize a list to hold all the tweepy Tweets\n",
    "\talltweets = []\t\n",
    "\t\n",
    "\t# initial request for most recent tweets (200 is the maximum allowed count)\n",
    "\tnew_tweets = api.user_timeline(screen_name = screen_name,include_entities=True,tweet_mode='extended')\n",
    "\t\n",
    "\t# saving most recent tweets\n",
    "\talltweets.extend(new_tweets)\n",
    "\t\n",
    "\t# saving the id of the oldest tweet less one\n",
    "\toldest = alltweets[-1].id - 1\n",
    "\n",
    "\t# fetching tweets until there are no tweets left to grab\n",
    "\twhile len(new_tweets) > 0:\n",
    "\t\t\n",
    "\t\t#all subsequent requests using the max_id param to prevent duplicates\n",
    "\t\tnew_tweets = api.user_timeline(screen_name = screen_name,count=199,max_id=oldest,include_entities=True,tweet_mode='extended')\n",
    "\t\t\n",
    "\t\t#saving most recent tweets\n",
    "\t\talltweets.extend(new_tweets)\n",
    "\t\t\n",
    "\t\t#updating the id of the oldest tweet less one\n",
    "\t\toldest = alltweets[-1].id - 1\n",
    "\n",
    "\t# printing total tweets fetched from given screen name\n",
    "\tprint (\"Total tweets downloaded from %s are %s\" % (screen_name,len(alltweets)))\n",
    "\t\n",
    "\treturn alltweets"
   ]
  },
  {
   "cell_type": "code",
   "execution_count": 3,
   "metadata": {
    "collapsed": true
   },
   "outputs": [],
   "source": [
    "def fetch_tweets(screen_names): #this function finds tweets for array of screen_names\n",
    "\n",
    "\t# initializing the list to hold all tweets from all users\n",
    "\talltweets=[]\n",
    "\n",
    "\t# getting all tweets for each screen name\n",
    "\tfor  screen_name in screen_names:\n",
    "\t\talltweets.extend(get_all_tweets(screen_name))\n",
    "\n",
    "\treturn alltweets"
   ]
  },
  {
   "cell_type": "code",
   "execution_count": null,
   "metadata": {
    "collapsed": true
   },
   "outputs": [],
   "source": []
  }
 ],
 "metadata": {
  "kernelspec": {
   "display_name": "Python 3",
   "language": "python",
   "name": "python3"
  },
  "language_info": {
   "codemirror_mode": {
    "name": "ipython",
    "version": 3
   },
   "file_extension": ".py",
   "mimetype": "text/x-python",
   "name": "python",
   "nbconvert_exporter": "python",
   "pygments_lexer": "ipython3",
   "version": "3.6.3"
  }
 },
 "nbformat": 4,
 "nbformat_minor": 2
}
